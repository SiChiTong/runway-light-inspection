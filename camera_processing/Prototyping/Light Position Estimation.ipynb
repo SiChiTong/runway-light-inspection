{
 "cells": [
  {
   "cell_type": "code",
   "execution_count": 12,
   "metadata": {},
   "outputs": [],
   "source": [
    "import cv2\n",
    "import numpy as np\n",
    "import matplotlib.pyplot as plt\n",
    "from sklearn.cluster import DBSCAN\n",
    "import timeit"
   ]
  },
  {
   "cell_type": "code",
   "execution_count": 24,
   "metadata": {},
   "outputs": [
    {
     "name": "stdout",
     "output_type": "stream",
     "text": [
      "Homography Matrix: \n",
      " [[-5.1275012e-03 -7.0846283e-05  2.5384142e+00]\n",
      " [ 8.5683478e-06  4.9511008e-03 -4.1312923e+00]\n",
      " [ 1.7854569e-05 -3.0066529e-03  1.0000000e+00]]\n"
     ]
    }
   ],
   "source": [
    "img = cv2.imread('runway.jpg', cv2.IMREAD_COLOR)\n",
    "\n",
    "# to calculate the transformation matrix\n",
    "input_pts = np.float32([[176,511],[797,513],[391,391],[588,392]])\n",
    "output_pts = np.float32([[-3,3],[3,3],[-3,13],[3,13]])\n",
    "#output_pts = np.float32([[176,511],[797,513],[176,0],[797,0]])\n",
    "\n",
    "\n",
    "# Compute the perspective transform M\n",
    "H = np.float32(cv2.getPerspectiveTransform(input_pts,output_pts))\n",
    "print('Homography Matrix: \\n', H)"
   ]
  },
  {
   "cell_type": "code",
   "execution_count": 22,
   "metadata": {},
   "outputs": [
    {
     "name": "stdout",
     "output_type": "stream",
     "text": [
      "0.0035980000000108703\n"
     ]
    },
    {
     "data": {
      "text/plain": [
       "<matplotlib.collections.PathCollection at 0x28edb8d6c50>"
      ]
     },
     "execution_count": 22,
     "metadata": {},
     "output_type": "execute_result"
    },
    {
     "data": {
      "image/png": "[encoded data removed]",
      "text/plain": [
       "<Figure size 432x288 with 1 Axes>"
      ]
     },
     "metadata": {
      "needs_background": "light"
     },
     "output_type": "display_data"
    }
   ],
   "source": [
    "start = timeit.timeit()\n",
    "## reshape tp (n, 1, 2)\n",
    "transform_points = input_pts.reshape(-1,1,2).astype(np.float32)\n",
    "\n",
    "#apply homography transfrom\n",
    "cartesian_points = cv2.perspectiveTransform(transform_points, H)\n",
    "reduced_cartesian_points = np.squeeze(cartesian_points, axis=1)\n",
    "\n",
    "end = timeit.timeit()\n",
    "print(end - start)\n",
    "\n",
    "#plot 2d cartesian points (birds eye view)\n",
    "plt.scatter(reduced_cartesian_points[:,0], reduced_cartesian_points[:,1])"
   ]
  },
  {
   "cell_type": "code",
   "execution_count": null,
   "metadata": {},
   "outputs": [],
   "source": []
  },
  {
   "cell_type": "code",
   "execution_count": null,
   "metadata": {},
   "outputs": [],
   "source": []
  },
  {
   "cell_type": "code",
   "execution_count": null,
   "metadata": {},
   "outputs": [],
   "source": []
  },
  {
   "cell_type": "code",
   "execution_count": null,
   "metadata": {},
   "outputs": [],
   "source": []
  },
  {
   "cell_type": "code",
   "execution_count": null,
   "metadata": {},
   "outputs": [],
   "source": []
  },
  {
   "cell_type": "code",
   "execution_count": null,
   "metadata": {},
   "outputs": [],
   "source": []
  },
  {
   "cell_type": "code",
   "execution_count": null,
   "metadata": {},
   "outputs": [],
   "source": []
  },
  {
   "cell_type": "code",
   "execution_count": null,
   "metadata": {},
   "outputs": [],
   "source": []
  },
  {
   "cell_type": "code",
   "execution_count": null,
   "metadata": {},
   "outputs": [],
   "source": []
  }
 ],
 "metadata": {
  "kernelspec": {
   "display_name": "Python 3",
   "language": "python",
   "name": "python3"
  },
  "language_info": {
   "codemirror_mode": {
    "name": "ipython",
    "version": 3
   },
   "file_extension": ".py",
   "mimetype": "text/x-python",
   "name": "python",
   "nbconvert_exporter": "python",
   "pygments_lexer": "ipython3",
   "version": "3.6.10"
  }
 },
 "nbformat": 4,
 "nbformat_minor": 4
}
